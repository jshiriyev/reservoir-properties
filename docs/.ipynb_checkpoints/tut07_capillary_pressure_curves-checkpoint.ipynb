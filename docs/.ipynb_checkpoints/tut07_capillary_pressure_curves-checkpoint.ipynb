{
 "cells": [
  {
   "cell_type": "code",
   "execution_count": 25,
   "id": "05802e9b-fb49-4734-8307-654ed2b5cf29",
   "metadata": {},
   "outputs": [],
   "source": [
    "import matplotlib.pyplot as plt\n",
    "import numpy as np"
   ]
  },
  {
   "cell_type": "code",
   "execution_count": 1,
   "id": "f28a9f9d-e0a2-4178-a1d7-a9576eace820",
   "metadata": {},
   "outputs": [],
   "source": [
    "from respy import capress"
   ]
  },
  {
   "cell_type": "markdown",
   "id": "244fe392-8021-4843-837d-f5e786e87c73",
   "metadata": {},
   "source": [
    "**Example 1.3** Capillary pressure curves.\n",
    "An oil-water system has a capillary entry pressure, $p_\\text{c,e}$ = 3.5 psi and $\\lambda$ = 2.0. The\n",
    "residual saturations are $S_\\text{wr}$ = 0.1, $S_\\text{or}$ = 0.2. The capillary pressure data were\n",
    "measured for a 100 mD rock with 20% porosity and $\\sigma_\\text{ow}$ = 20 dyn/cm.\n",
    "Estimate the capillary pressure at $S_\\text{w}$ = 0.3 for a similar rock type but 50 mD,\n",
    "15% porosity, and $\\sigma_\\text{ow}$ = 25 dyn/cm."
   ]
  },
  {
   "cell_type": "code",
   "execution_count": 10,
   "id": "84f956e5-d067-4874-bf61-d893ffd28f7a",
   "metadata": {},
   "outputs": [],
   "source": [
    "bc = capress.BrooksCorey(swr=0.1,sor=0.4,lamda=2.0,entry=3.5)"
   ]
  },
  {
   "cell_type": "code",
   "execution_count": 11,
   "id": "b5d0a10d-04cd-4bbf-a9e2-2e237c7b7f21",
   "metadata": {},
   "outputs": [
    {
     "data": {
      "text/plain": [
       "array([0.22222222])"
      ]
     },
     "execution_count": 11,
     "metadata": {},
     "output_type": "execute_result"
    }
   ],
   "source": [
    "bc.dr.ss(0.3)"
   ]
  },
  {
   "cell_type": "code",
   "execution_count": 12,
   "id": "af3cddad-4d09-47dd-8005-c6bc77973fa5",
   "metadata": {},
   "outputs": [
    {
     "data": {
      "text/plain": [
       "array([7.4246212])"
      ]
     },
     "execution_count": 12,
     "metadata": {},
     "output_type": "execute_result"
    }
   ],
   "source": [
    "bc.dr.pc(0.3)"
   ]
  },
  {
   "cell_type": "code",
   "execution_count": 14,
   "id": "425be625-668d-4469-91b1-e6f09cabdf94",
   "metadata": {},
   "outputs": [
    {
     "data": {
      "text/plain": [
       "array([0.4])"
      ]
     },
     "execution_count": 14,
     "metadata": {},
     "output_type": "execute_result"
    }
   ],
   "source": [
    "bc.im.se(0.3)"
   ]
  },
  {
   "cell_type": "code",
   "execution_count": 15,
   "id": "39ee5c07-6541-43e1-bca2-8ffc96d3a413",
   "metadata": {},
   "outputs": [
    {
     "data": {
      "text/plain": [
       "array([2.03398591])"
      ]
     },
     "execution_count": 15,
     "metadata": {},
     "output_type": "execute_result"
    }
   ],
   "source": [
    "bc.im.pc(0.3)"
   ]
  },
  {
   "cell_type": "code",
   "execution_count": 16,
   "id": "e02807e3-ca89-43e0-963e-8a515664158c",
   "metadata": {},
   "outputs": [],
   "source": [
    "jd = bc.dr.jf(0.3)"
   ]
  },
  {
   "cell_type": "code",
   "execution_count": 18,
   "id": "ef335c80-b8bf-4954-8953-16109073b3b0",
   "metadata": {},
   "outputs": [
    {
     "data": {
      "text/plain": [
       "array([8.30097886])"
      ]
     },
     "execution_count": 18,
     "metadata": {},
     "output_type": "execute_result"
    }
   ],
   "source": [
    "jd(perm=100,poro=0.2,ift=20)"
   ]
  },
  {
   "cell_type": "code",
   "execution_count": 17,
   "id": "c6e898d9-e618-483d-ad94-954873d0d198",
   "metadata": {},
   "outputs": [],
   "source": [
    "ji = bc.im.jf(0.3)"
   ]
  },
  {
   "cell_type": "code",
   "execution_count": 19,
   "id": "77ce37e0-8121-44ec-a892-41be3a6b7a2b",
   "metadata": {},
   "outputs": [
    {
     "data": {
      "text/plain": [
       "array([2.27406537])"
      ]
     },
     "execution_count": 19,
     "metadata": {},
     "output_type": "execute_result"
    }
   ],
   "source": [
    "ji(perm=100,poro=0.2,ift=20)"
   ]
  },
  {
   "cell_type": "code",
   "execution_count": 21,
   "id": "759c9ddc-3d3b-4940-9c8a-63db8397f912",
   "metadata": {},
   "outputs": [
    {
     "data": {
      "text/plain": [
       "array([11.36658342])"
      ]
     },
     "execution_count": 21,
     "metadata": {},
     "output_type": "execute_result"
    }
   ],
   "source": [
    "bc.dr.jf2pc(jd(perm=100,poro=0.2,ift=20),perm=50,poro=0.15,ift=25)"
   ]
  },
  {
   "cell_type": "code",
   "execution_count": 22,
   "id": "b108e75a-7621-4595-930e-a15efe4a105c",
   "metadata": {},
   "outputs": [
    {
     "data": {
      "text/plain": [
       "array([3.11389226])"
      ]
     },
     "execution_count": 22,
     "metadata": {},
     "output_type": "execute_result"
    }
   ],
   "source": [
    "bc.im.jf2pc(ji(perm=100,poro=0.2,ift=20),perm=50,poro=0.15,ift=25)"
   ]
  },
  {
   "cell_type": "code",
   "execution_count": 27,
   "id": "4c1ecb1c-c223-4cdd-b662-1b0e124cb324",
   "metadata": {},
   "outputs": [
    {
     "data": {
      "image/png": "[encoded data removed]",
      "text/plain": [
       "<Figure size 640x480 with 1 Axes>"
      ]
     },
     "metadata": {},
     "output_type": "display_data"
    }
   ],
   "source": [
    "ow = capress.BrooksCorey(0.1,0.2,2,3.5)\n",
    "\n",
    "sw = np.linspace(0,1,1000)\n",
    "\n",
    "plt.semilogy(sw,ow.dr.pc(sw),label=\"Drainage Curve\")\n",
    "plt.semilogy(sw,ow.im.pc(sw),label=\"Imbibition Curve\")\n",
    "\n",
    "plt.vlines(0.1,1e-3,1e3,'k',linestyle='--',linewidth=1.)\n",
    "plt.vlines(0.8,1e-3,1e3,'k',linestyle='--',linewidth=1.)\n",
    "\n",
    "plt.xlim((0,1.))\n",
    "plt.ylim((1e-3,1e3))\n",
    "\n",
    "plt.legend()\n",
    "\n",
    "plt.show()"
   ]
  },
  {
   "cell_type": "code",
   "execution_count": 28,
   "id": "58b7d0a6-501a-4908-820c-ed33821638a4",
   "metadata": {},
   "outputs": [
    {
     "data": {
      "image/png": "[encoded data removed]",
      "text/plain": [
       "<Figure size 640x480 with 1 Axes>"
      ]
     },
     "metadata": {},
     "output_type": "display_data"
    }
   ],
   "source": [
    "ow = capress.VanGenuchten(0.1,0.2,2,2,3.5)\n",
    "\n",
    "sw = np.linspace(0,1,1000)\n",
    "\n",
    "plt.semilogy(sw,ow.im.pc(sw),label=\"Imbibition Curve\")\n",
    "\n",
    "plt.vlines(0.1,1e-3,1e1,'k',linestyle='--',linewidth=1.)\n",
    "plt.vlines(0.8,1e-3,1e1,'k',linestyle='--',linewidth=1.)\n",
    "\n",
    "plt.xlim((0,1.))\n",
    "\n",
    "plt.legend()\n",
    "\n",
    "plt.show()"
   ]
  },
  {
   "cell_type": "code",
   "execution_count": null,
   "id": "ae4e9c43-1207-4353-a430-0789ad528df2",
   "metadata": {},
   "outputs": [],
   "source": []
  }
 ],
 "metadata": {
  "kernelspec": {
   "display_name": "Python 3 (ipykernel)",
   "language": "python",
   "name": "python3"
  },
  "language_info": {
   "codemirror_mode": {
    "name": "ipython",
    "version": 3
   },
   "file_extension": ".py",
   "mimetype": "text/x-python",
   "name": "python",
   "nbconvert_exporter": "python",
   "pygments_lexer": "ipython3",
   "version": "3.12.4"
  }
 },
 "nbformat": 4,
 "nbformat_minor": 5
}
