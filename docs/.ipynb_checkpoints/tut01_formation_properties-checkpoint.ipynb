{
 "cells": [
  {
   "cell_type": "markdown",
   "id": "145d1c2a-c3e5-4062-93e4-42c2eb982cc3",
   "metadata": {},
   "source": [
    "# Formation Properties"
   ]
  },
  {
   "cell_type": "code",
   "execution_count": null,
   "id": "0b702885-d2df-4b2c-aa9a-1891f2dcc99c",
   "metadata": {},
   "outputs": [],
   "source": []
  }
 ],
 "metadata": {
  "kernelspec": {
   "display_name": "Python 3 (ipykernel)",
   "language": "python",
   "name": "python3"
  },
  "language_info": {
   "codemirror_mode": {
    "name": "ipython",
    "version": 3
   },
   "file_extension": ".py",
   "mimetype": "text/x-python",
   "name": "python",
   "nbconvert_exporter": "python",
   "pygments_lexer": "ipython3",
   "version": "3.12.4"
  }
 },
 "nbformat": 4,
 "nbformat_minor": 5
}
