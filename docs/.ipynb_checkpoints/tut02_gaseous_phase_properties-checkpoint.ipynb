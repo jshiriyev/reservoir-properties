{
 "cells": [
  {
   "cell_type": "code",
   "execution_count": 26,
   "metadata": {
    "executionInfo": {
     "elapsed": 311,
     "status": "ok",
     "timestamp": 1711693153107,
     "user": {
      "displayName": "Javid Shiriyev",
      "userId": "04377657040188470328"
     },
     "user_tz": -240
    },
    "id": "etTfReUS28AU"
   },
   "outputs": [],
   "source": [
    "import matplotlib.pyplot as plt"
   ]
  },
  {
   "cell_type": "code",
   "execution_count": 19,
   "metadata": {
    "executionInfo": {
     "elapsed": 3,
     "status": "ok",
     "timestamp": 1711693457156,
     "user": {
      "displayName": "Javid Shiriyev",
      "userId": "04377657040188470328"
     },
     "user_tz": -240
    },
    "id": "soyBNJJO4UbT"
   },
   "outputs": [],
   "source": [
    "import numpy as np"
   ]
  },
  {
   "cell_type": "code",
   "execution_count": 20,
   "metadata": {
    "executionInfo": {
     "elapsed": 706,
     "status": "ok",
     "timestamp": 1711693145974,
     "user": {
      "displayName": "Javid Shiriyev",
      "userId": "04377657040188470328"
     },
     "user_tz": -240
    },
    "id": "36Xlv37V3FLU"
   },
   "outputs": [],
   "source": [
    "from respy import phaseg"
   ]
  },
  {
   "cell_type": "code",
   "execution_count": 21,
   "metadata": {},
   "outputs": [],
   "source": [
    "pcritical = 663.33\n",
    "tcritical = 837.26"
   ]
  },
  {
   "cell_type": "code",
   "execution_count": 22,
   "metadata": {},
   "outputs": [],
   "source": [
    "pressures = np.linspace(500,5000)\n",
    "temperature = 1000"
   ]
  },
  {
   "cell_type": "code",
   "execution_count": 27,
   "metadata": {},
   "outputs": [
    {
     "name": "stdout",
     "output_type": "stream",
     "text": [
      "Help on function zfactor in module respy.fluid_props.phaseg.compressibility._zfactor:\n",
      "\n",
      "zfactor(critical_params: tuple, pressures: numpy.ndarray, temperature: float, derivative: bool = False, method: str = 'direct_method')\n",
      "    Dynamically calculates z-factor based on the specified method.\n",
      "\n",
      "    Parameters:\n",
      "        critical_params (tuple): tuple of (pcrit in psi, tcrit in Rankine)\n",
      "\n",
      "        pressures (numpy.ndarray): Array of pressure values (psi) to calculate z-factor for.\n",
      "        temperature (float): The temperature value (Rankine) at which to calculate z-factor.\n",
      "\n",
      "        method_name (str): The name of the method to use:\n",
      "            (e.g., 'direct_method', 'dranchuk_abu_kassem', 'dranchuk_purvis_robinson', 'hall_yarborough').\n",
      "\n",
      "    Returns:\n",
      "        numpy.ndarray: Z-factor, and if derivative is True, Z-prime values calculated for each pressure.\n",
      "\n"
     ]
    }
   ],
   "source": [
    "help(phaseg.zfactor)"
   ]
  },
  {
   "cell_type": "code",
   "execution_count": 35,
   "metadata": {
    "executionInfo": {
     "elapsed": 377,
     "status": "ok",
     "timestamp": 1711693488922,
     "user": {
      "displayName": "Javid Shiriyev",
      "userId": "04377657040188470328"
     },
     "user_tz": -240
    },
    "id": "oIfCRMoD3xiN"
   },
   "outputs": [
    {
     "data": {
      "text/plain": [
       "array([0.8431597 , 0.81101839, 0.77873709, 0.74637085, 0.71388113,\n",
       "       0.68121409, 0.64841476, 0.61576927, 0.58394956, 0.55410841,\n",
       "       0.52784767, 0.50698244, 0.49308594, 0.48693564, 0.48813108,\n",
       "       0.49516656, 0.50599982, 0.51878972, 0.53234468, 0.54610973,\n",
       "       0.55990332, 0.5736856 , 0.58745138, 0.60120079, 0.61493439,\n",
       "       0.62865274, 0.64235636, 0.65604572, 0.66972129, 0.68338348,\n",
       "       0.69703271, 0.71066934, 0.72429373, 0.73790623, 0.75150715,\n",
       "       0.76509679, 0.77867544, 0.79224338, 0.80580087, 0.81934814,\n",
       "       0.83288546, 0.84641302, 0.85993107, 0.8734398 , 0.8869394 ,\n",
       "       0.90043008, 0.91391201, 0.92738537, 0.94085033, 0.95430705])"
      ]
     },
     "execution_count": 35,
     "metadata": {},
     "output_type": "execute_result"
    }
   ],
   "source": [
    "zvalues1 = phaseg.zfactor((pcritical,tcritical),pressures,temperature,method=\"direct_method\"); zvalues1"
   ]
  },
  {
   "cell_type": "code",
   "execution_count": 36,
   "metadata": {},
   "outputs": [
    {
     "data": {
      "text/plain": [
       "array([0.83453988, 0.80100675, 0.7664673 , 0.73105939, 0.69511557,\n",
       "       0.6592884 , 0.62467546, 0.59281252, 0.56535615, 0.54351385,\n",
       "       0.52766192, 0.5174427 , 0.51211096, 0.51081715, 0.51275678,\n",
       "       0.51723388, 0.52367938, 0.53164497, 0.54078539, 0.55083765,\n",
       "       0.56160198, 0.57292628, 0.58469396, 0.59681501, 0.60921929,\n",
       "       0.62185166, 0.63466836, 0.64763438, 0.6607215 , 0.67390674,\n",
       "       0.6871713 , 0.70049971, 0.7138791 , 0.72729878, 0.74074977,\n",
       "       0.75422453, 0.76771667, 0.78122077, 0.79473224, 0.80824714,\n",
       "       0.82176211, 0.83527426, 0.84878112, 0.86228054, 0.87577071,\n",
       "       0.88925003, 0.90271714, 0.91617088, 0.92961022, 0.94303429])"
      ]
     },
     "execution_count": 36,
     "metadata": {},
     "output_type": "execute_result"
    }
   ],
   "source": [
    "zvalues2 = phaseg.zfactor((pcritical,tcritical),pressures,temperature,method=\"dranchuk_abu_kassem\"); zvalues2"
   ]
  },
  {
   "cell_type": "code",
   "execution_count": 47,
   "metadata": {},
   "outputs": [
    {
     "data": {
      "text/plain": [
       "array([0.83354057, 0.82351534, 0.81339382, 0.80317651, 0.79286451,\n",
       "       0.78245977, 0.77196519, 0.76138486, 0.75072426, 0.7399906 ,\n",
       "       0.72919306, 0.7183432 , 0.70745529, 0.69654672, 0.68563842,\n",
       "       0.6747552 , 0.66392608, 0.65318443, 0.64256799, 0.63211858,\n",
       "       0.62188156, 0.61190482, 0.60223753, 0.59292846, 0.58402422,\n",
       "       0.57556733, 0.56759458, 0.56013569, 0.5532124 , 0.54683827,\n",
       "       0.54101886, 0.53575247, 0.53103105, 0.52684141, 0.52316632,\n",
       "       0.51998564, 0.5172772 , 0.51501765, 0.51318306, 0.51174937,\n",
       "       0.51069282, 0.50999013, 0.50961876, 0.50955703, 0.50978418,\n",
       "       0.51028044, 0.51102711, 0.5120065 , 0.51320202, 0.51459806])"
      ]
     },
     "execution_count": 47,
     "metadata": {},
     "output_type": "execute_result"
    }
   ],
   "source": [
    "zvalues3 = phaseg.zfactor((pcritical,tcritical),np.linspace(500,1850),temperature,method=\"dranchuk_purvis_robinson\"); zvalues3"
   ]
  },
  {
   "cell_type": "code",
   "execution_count": 38,
   "metadata": {},
   "outputs": [
    {
     "data": {
      "text/plain": [
       "array([0.83179796, 0.79881   , 0.76549532, 0.7322095 , 0.69951627,\n",
       "       0.66824607, 0.63949884, 0.6145128 , 0.59436712, 0.57964421,\n",
       "       0.5702859 , 0.56573101, 0.56518616, 0.5678487 , 0.57302051,\n",
       "       0.58013916, 0.58876833, 0.5985749 , 0.60930557, 0.62076716,\n",
       "       0.63281138, 0.64532344, 0.65821367, 0.67141137, 0.68486029,\n",
       "       0.69851527, 0.7123398 , 0.72630409, 0.74038367, 0.75455834,\n",
       "       0.76881129, 0.78312844, 0.797498  , 0.81190999, 0.82635593,\n",
       "       0.84082864, 0.85532195, 0.8698306 , 0.88435005, 0.8988764 ,\n",
       "       0.91340627, 0.92793674, 0.94246529, 0.95698972, 0.97150813,\n",
       "       0.98601886, 1.00052046, 1.0150117 , 1.02949147, 1.04395883])"
      ]
     },
     "execution_count": 38,
     "metadata": {},
     "output_type": "execute_result"
    }
   ],
   "source": [
    "zvalues4 = phaseg.zfactor((pcritical,tcritical),pressures,temperature,method=\"hall_yarborough\"); zvalues4"
   ]
  },
  {
   "cell_type": "code",
   "execution_count": 42,
   "metadata": {},
   "outputs": [
    {
     "data": {
      "text/plain": [
       "array([0.75377263, 0.89222067, 1.0306687 , 1.16911674, 1.30756477,\n",
       "       1.4460128 , 1.58446084, 1.72290887, 1.86135691, 1.99980494,\n",
       "       2.13825298, 2.27670101, 2.41514905, 2.55359708, 2.69204511,\n",
       "       2.83049315, 2.96894118, 3.10738922, 3.24583725, 3.38428529,\n",
       "       3.52273332, 3.66118136, 3.79962939, 3.93807742, 4.07652546,\n",
       "       4.21497349, 4.35342153, 4.49186956, 4.6303176 , 4.76876563,\n",
       "       4.90721367, 5.0456617 , 5.18410973, 5.32255777, 5.4610058 ,\n",
       "       5.59945384, 5.73790187, 5.87634991, 6.01479794, 6.15324598,\n",
       "       6.29169401, 6.43014204, 6.56859008, 6.70703811, 6.84548615,\n",
       "       6.98393418, 7.12238222, 7.26083025, 7.39927829, 7.53772632])"
      ]
     },
     "execution_count": 42,
     "metadata": {},
     "output_type": "execute_result"
    }
   ],
   "source": [
    "pressures/pcritical"
   ]
  },
  {
   "cell_type": "code",
   "execution_count": 48,
   "metadata": {},
   "outputs": [
    {
     "data": {
      "text/plain": [
       "<matplotlib.legend.Legend at 0x2102dbaf230>"
      ]
     },
     "execution_count": 48,
     "metadata": {},
     "output_type": "execute_result"
    },
    {
     "data": {
      "image/png": "[encoded data removed]",
      "text/plain": [
       "<Figure size 640x480 with 1 Axes>"
      ]
     },
     "metadata": {},
     "output_type": "display_data"
    }
   ],
   "source": [
    "plt.plot(pressures/pcritical,zvalues1,label=\"1\")\n",
    "plt.plot(pressures/pcritical,zvalues2,label=\"2\")\n",
    "plt.plot(np.linspace(500,1850)/pcritical,zvalues3,label=\"3\")\n",
    "plt.plot(pressures/pcritical,zvalues4,label=\"4\")\n",
    "\n",
    "plt.legend()"
   ]
  },
  {
   "cell_type": "code",
   "execution_count": null,
   "metadata": {
    "id": "CASrZsIj4bA8"
   },
   "outputs": [],
   "source": []
  }
 ],
 "metadata": {
  "colab": {
   "authorship_tag": "ABX9TyMepT1ZzvZs5gLhdz4K2hwA",
   "provenance": []
  },
  "kernelspec": {
   "display_name": "Python 3 (ipykernel)",
   "language": "python",
   "name": "python3"
  },
  "language_info": {
   "codemirror_mode": {
    "name": "ipython",
    "version": 3
   },
   "file_extension": ".py",
   "mimetype": "text/x-python",
   "name": "python",
   "nbconvert_exporter": "python",
   "pygments_lexer": "ipython3",
   "version": "3.12.4"
  }
 },
 "nbformat": 4,
 "nbformat_minor": 4
}
