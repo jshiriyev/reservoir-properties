{
 "cells": [
  {
   "cell_type": "markdown",
   "id": "e1520fbd-b219-4d29-9ece-9da383ab7660",
   "metadata": {},
   "source": [
    "# Aqueous Phase Properties"
   ]
  },
  {
   "cell_type": "code",
   "execution_count": null,
   "id": "b307c6f2-fb7c-481e-8673-2a5ebb7a0399",
   "metadata": {},
   "outputs": [],
   "source": []
  }
 ],
 "metadata": {
  "kernelspec": {
   "display_name": "Python 3 (ipykernel)",
   "language": "python",
   "name": "python3"
  },
  "language_info": {
   "codemirror_mode": {
    "name": "ipython",
    "version": 3
   },
   "file_extension": ".py",
   "mimetype": "text/x-python",
   "name": "python",
   "nbconvert_exporter": "python",
   "pygments_lexer": "ipython3",
   "version": "3.12.4"
  }
 },
 "nbformat": 4,
 "nbformat_minor": 5
}
