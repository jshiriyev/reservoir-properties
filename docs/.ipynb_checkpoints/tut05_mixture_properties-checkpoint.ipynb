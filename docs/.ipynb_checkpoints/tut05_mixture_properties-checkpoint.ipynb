{
 "cells": [
  {
   "cell_type": "markdown",
   "id": "fb3dce13-53de-4c86-8d17-002adc7046fa",
   "metadata": {},
   "source": [
    "Example 1.1 Properties of Mixtures.\n",
    "A light, undersaturated oleic phase with three components, methane (C1),\n",
    "n-pentane (n-C5), and n-decane (n-C10), is initially at 150\u0001F and 1500 psia and\n",
    "has a molar composition of xC1 ¼ 0.3, xC5 ¼ 0.3, and xC10 ¼ 0.4. The bubble point\n",
    "pressure, pb, is 1208 psia, the formation volume factor at bubble point, Bo,b, is\n",
    "1.291 RB/STB, and the solution gas ratio at bubble point, Rsb, is 435 scf/STB. The\n",
    "undersaturated oil compressibility is 2.5 \u0004 10\n",
    "\u00035 psi\n",
    "\u00031.\n",
    "The fluid is brought to standard conditions (60\u0001F and 14.7 psia) where the stock\n",
    "tank oil has a composition of xC1,o ¼ 0.005, xC5,o ¼ 0.37, and xC10,o ¼ 0.625 and\n",
    "an API gravity of 69.4\u0001. The stock tank gas has a composition of xC1,g ¼ 0.822,\n",
    "xC5,g ¼ 0.177, and xC10,g ¼ 0.001.\n",
    "Calculate:\n",
    "a. Specific gravity and density (lbm/ft3) of both the stock tank oil and gas\n",
    "b. Mass fractions of each component in the oleic phase at reservoir conditions,\n",
    "150\u0001F and 1500 psia\n",
    "c. Formation volume factor of the oleic phase at reservoir conditions\n",
    "d. Density (lbm/ft3) of oleic phase at reservoir conditions"
   ]
  },
  {
   "cell_type": "code",
   "execution_count": null,
   "id": "56ee9709-6a1c-4ff4-b3e6-7f902b649a78",
   "metadata": {},
   "outputs": [],
   "source": []
  }
 ],
 "metadata": {
  "kernelspec": {
   "display_name": "Python 3 (ipykernel)",
   "language": "python",
   "name": "python3"
  },
  "language_info": {
   "codemirror_mode": {
    "name": "ipython",
    "version": 3
   },
   "file_extension": ".py",
   "mimetype": "text/x-python",
   "name": "python",
   "nbconvert_exporter": "python",
   "pygments_lexer": "ipython3",
   "version": "3.12.4"
  }
 },
 "nbformat": 4,
 "nbformat_minor": 5
}
